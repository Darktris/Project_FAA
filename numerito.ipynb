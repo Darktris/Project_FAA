{
 "cells": [
  {
   "cell_type": "code",
   "execution_count": null,
   "metadata": {},
   "outputs": [],
   "source": [
    "import numpy as np\n",
    "import matplotlib.image as mpimg\n",
    "import matplotlib.pyplot as plt\n",
    "%matplotlib inline\n",
    "\n",
    "image_all = mpimg.imread(\"todo.png\",True)\n",
    "_ = plt.figure(figsize=(40,80))\n",
    "_ = plt.imshow(image_all, cmap='gray')\n"
   ]
  },
  {
   "cell_type": "code",
   "execution_count": null,
   "metadata": {},
   "outputs": [],
   "source": [
    "# convetimos la imagen a blanco y negro (1bit)\n",
    "intensity_thres = 70\n",
    "image_bw = (image_all>intensity_thres)"
   ]
  },
  {
   "cell_type": "markdown",
   "metadata": {},
   "source": [
    "#### Busqueda de puntos de corte horizontales y verticales\n",
    "Para ello se suma la imagen en vertical y en horizontal. Donde están las rayas negras son mínimos. Se detectan esos mínimos para cortar"
   ]
  },
  {
   "cell_type": "code",
   "execution_count": null,
   "metadata": {},
   "outputs": [],
   "source": [
    "# Suma de la imagen en blanco y negro para detectar las rayas horizontales\n",
    "horizontal = image_bw.sum(1)\n",
    "thrsH = 500\n",
    "\n",
    "n = 5000\n",
    "_ = plt.figure(figsize=(20,10))\n",
    "_ = plt.plot(range(n), horizontal[0:n], range(n), [thrsH]*n)\n"
   ]
  },
  {
   "cell_type": "code",
   "execution_count": null,
   "metadata": {},
   "outputs": [],
   "source": [
    "# Suma de la imagen en blanco y negro para detectar las rayas horizontales\n",
    "\n",
    "vertical = image_bw.sum(0)\n",
    "thrsV = 5000\n",
    "n = len(vertical)\n",
    "_ = plt.plot(range(n), vertical, range(n), [thrsV]*n)"
   ]
  },
  {
   "cell_type": "code",
   "execution_count": null,
   "metadata": {},
   "outputs": [],
   "source": [
    "# Cortes\n",
    "def cortes(valores, umbral, crop=15):\n",
    "    \"\"\" A partir de un vector de valores y un umbral busca \n",
    "        donde la curva sube y luego baja. Entre medias esta\n",
    "        la imagen que buscamos. Luego reduce los valores \n",
    "        encontrados con 'crop' para no seleccionar las rayas \n",
    "        negras\"\"\"\n",
    "    zonas_picos = valores>umbral\n",
    "    cuts = []\n",
    "    i1 = 0\n",
    "    while True:\n",
    "        if i1 >= len(zonas_picos)-1:\n",
    "            break\n",
    "        if zonas_picos[i1] == False and zonas_picos[i1+1] == True:\n",
    "            for i2 in range(i1+1, len(zonas_picos)-1):\n",
    "                if zonas_picos[i2] == True and zonas_picos[i2+1] == False:\n",
    "                    cuts.append((i1+crop, i2-crop))\n",
    "                    i1 = i2\n",
    "                    break\n",
    "                    \n",
    "        i1 = i1 + 1\n",
    "\n",
    "    return list(cuts)\n",
    "\n",
    "cutsH = cortes(horizontal, thrsH, 21)\n",
    "cutsV = cortes(vertical, thrsV, 15)\n",
    "print(\"Se han encontrado {0} filas y {1} columnas\".format(len(cutsH), len(cutsV)))"
   ]
  },
  {
   "cell_type": "code",
   "execution_count": null,
   "metadata": {},
   "outputs": [],
   "source": [
    "\n",
    "class Numerito:                                                               \n",
    "    def __init__(self, ancho, alto):\n",
    "        self.clase = -1\n",
    "        self.imagen = np.full((int(ancho),int(alto)), 0)\n",
    "        \n",
    "\n",
    "#cutsH = np.linspace(51,57310,121)\n",
    "#cutsH = [(int(round(v1)),int(round(v2))) for v1,v2 in zip(np.linspace(56,57315,121), np.linspace(451,57710,121))]\n"
   ]
  },
  {
   "cell_type": "code",
   "execution_count": null,
   "metadata": {},
   "outputs": [],
   "source": [
    "from scipy import misc\n",
    "\n",
    "# Corta las imágenes de los números y las guarda las imágenes\n",
    "# También se guardan en la lista 'numeritos'\n",
    "\n",
    "# Calculamos los máximos de ancho y alto para guardar todas las \n",
    "# imágenes de un mismo tamaño\n",
    "w = max(map(lambda c:c[1]-c[0],cutsV))\n",
    "h = max(map(lambda c:c[1]-c[0],cutsH))\n",
    "w = w+1 if w%2==1 else w\n",
    "h = h+1 if h%2==1 else h\n",
    "ww = w\n",
    "hh = h\n",
    "\n",
    "i = 0\n",
    "numeritos = []\n",
    "for ch in cutsH:\n",
    "    for cv in cutsV:\n",
    "        num = Numerito(hh, ww)\n",
    "        \n",
    "        # Extraemos la imagen y se pega en el centro de la imagen de num\n",
    "        im = image_all[ch[0]:ch[1],cv[0]:cv[1]]\n",
    "        dy,dx = im.shape[0]/2,im.shape[1]/2 \n",
    "        num.imagen[int(round(hh/2-dy)):int(round(hh/2-dy)+(ch[1]-ch[0])),\n",
    "                   int(round(ww/2-dx)):int(round(ww/2-dx)+(cv[1]-cv[0]))] = im\n",
    "        \n",
    "        num.clase = i % 10\n",
    "        \n",
    "        numeritos.append(num)\n",
    " \n",
    "        misc.toimage(num.imagen).save('nums/i%05d.png' % (i))\n",
    "    \n",
    "        i += 1\n",
    "        "
   ]
  },
  {
   "cell_type": "code",
   "execution_count": null,
   "metadata": {},
   "outputs": [],
   "source": [
    "     \n",
    "# Se saca por pantalla una muestra de las imágenes\n",
    "plt.figure(figsize=(10,10))\n",
    "for i,iimg in enumerate(np.random.randint(0,len(numeritos), size=100)):\n",
    "    plt.subplot(10,10,i+1)\n",
    "    plt.imshow(numeritos[iimg].imagen)\n",
    "        "
   ]
  },
  {
   "cell_type": "code",
   "execution_count": null,
   "metadata": {
    "collapsed": true
   },
   "outputs": [],
   "source": []
  }
 ],
 "metadata": {
  "kernelspec": {
   "display_name": "Python 2",
   "language": "python",
   "name": "python2"
  },
  "language_info": {
   "codemirror_mode": {
    "name": "ipython",
    "version": 3
   },
   "file_extension": ".py",
   "mimetype": "text/x-python",
   "name": "python",
   "nbconvert_exporter": "python",
   "pygments_lexer": "ipython3",
   "version": "3.6.2"
  }
 },
 "nbformat": 4,
 "nbformat_minor": 1
}
