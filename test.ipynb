{
 "cells": [
  {
   "cell_type": "code",
   "execution_count": 43,
   "metadata": {},
   "outputs": [
    {
     "name": "stdout",
     "output_type": "stream",
     "text": [
      "The autoreload extension is already loaded. To reload it, use:\n",
      "  %reload_ext autoreload\n"
     ]
    }
   ],
   "source": [
    "%load_ext autoreload\n",
    "%autoreload 2\n",
    "%reload_ext autoreload\n",
    "\n",
    "import proceso_imagenes\n",
    "import matplotlib.pyplot as plt\n",
    "\n",
    "imagenes, clases = proceso_imagenes.cargar_numeros(\"./nums\")\n",
    "\n"
   ]
  },
  {
   "cell_type": "code",
   "execution_count": null,
   "metadata": {
    "collapsed": true,
    "scrolled": false
   },
   "outputs": [],
   "source": [
    "import numpy as np\n",
    "\n",
    "diccionario_numero_rectas = dict([ (key,[]) for key in range(0,10)])\n",
    "\n",
    "numero_rectas = np.fromiter(map(proceso_imagenes.contar_rectas,imagenes[:500]),dtype=int)\n",
    "\n",
    "for num, cl in zip(numero_rectas,clases):\n",
    "    diccionario_numero_rectas[cl].append(num)\n",
    "    #print(\"Numero:\",cl,\"numero rectas\",num)\n",
    "\n",
    "for key, value in diccionario_numero_rectas.items():\n",
    "    print(key,np.mean(value),np.std(value))"
   ]
  },
  {
   "cell_type": "code",
   "execution_count": null,
   "metadata": {
    "collapsed": true,
    "scrolled": false
   },
   "outputs": [],
   "source": [
    "diccionario_intensidades = dict([ (key,[]) for key in range(0,10)])\n",
    "\n",
    "intensidades_medias = np.fromiter(map(proceso_imagenes.intensidad_media, imagenes[:500]),dtype=int)\n",
    "\n",
    "for num, cl in zip(intensidades_medias,clases):\n",
    "    diccionario_intensidades[cl].append(num)\n",
    "    #print(\"Numero:\",cl,\"intwensidad\",num)\n",
    "\n",
    "for key, value in diccionario_intensidades.items():\n",
    "    print(key,np.mean(value),np.std(value))"
   ]
  },
  {
   "cell_type": "code",
   "execution_count": null,
   "metadata": {
    "collapsed": true
   },
   "outputs": [],
   "source": [
    "diccionario_intensidades_umbralizadas = dict([ (key,[]) for key in range(0,10)])\n",
    "\n",
    "intensidades_medias_umbralizadas = np.fromiter(map(proceso_imagenes.intensidad_media_umbralizada,imagenes[:500]),\n",
    "                                               dtype=int)\n",
    "\n",
    "for num, cl in zip(intensidades_medias_umbralizadas,clases):\n",
    "    diccionario_intensidades_umbralizadas[cl].append(num)\n",
    "    #print(\"Numero:\",cl,\"intwensidad\",num)\n",
    "\n",
    "for key, value in diccionario_intensidades_umbralizadas.items():\n",
    "    print(key,np.mean(value),np.std(value))"
   ]
  },
  {
   "cell_type": "code",
   "execution_count": null,
   "metadata": {
    "collapsed": true
   },
   "outputs": [],
   "source": [
    "diccionario_intensidades_median = dict([ (key,[]) for key in range(0,10)])\n",
    "\n",
    "intensidades_median = np.fromiter(map(proceso_imagenes.intensidad_mediana, imagenes[:500]),dtype=int)\n",
    "\n",
    "for num, cl in zip(intensidades_median,clases):\n",
    "    diccionario_intensidades_median[cl].append(num)\n",
    "    #print(\"Numero:\",cl,\"intwensidad\",num)\n",
    "\n",
    "for key, value in diccionario_intensidades_median.items():\n",
    "    print(key,np.mean(value),np.std(value))"
   ]
  },
  {
   "cell_type": "code",
   "execution_count": null,
   "metadata": {
    "collapsed": true
   },
   "outputs": [],
   "source": [
    "diccionario_intensidades_median_umbralizada = dict([ (key,[]) for key in range(0,10)])\n",
    "\n",
    "intensidades_median_umbralizada = np.fromiter(map(proceso_imagenes.intensidad_mediana_umbralizada, imagenes[:500]),dtype=int)\n",
    "\n",
    "for num, cl in zip(intensidades_median_umbralizada,clases):\n",
    "    diccionario_intensidades_median_umbralizada[cl].append(num)\n",
    "    #print(\"Numero:\",cl,\"intwensidad\",num)\n",
    "\n",
    "for key, value in diccionario_intensidades_median_umbralizada.items():\n",
    "    print(key,np.mean(value),np.std(value))"
   ]
  },
  {
   "cell_type": "code",
   "execution_count": null,
   "metadata": {
    "collapsed": true,
    "scrolled": false
   },
   "outputs": [],
   "source": [
    "diccionario_altos = dict([ (key,[]) for key in range(0,10)])\n",
    "diccionario_anchos = dict([ (key,[]) for key in range(0,10)])\n",
    "\n",
    "altos = np.fromiter(map(proceso_imagenes.alto_numero, imagenes[:500]),dtype=int)\n",
    "anchos = np.fromiter(map(proceso_imagenes.ancho_numero, imagenes[:500]),dtype=int)\n",
    "\n",
    "for al,an, cl in zip(altos,anchos,clases):\n",
    "    diccionario_altos[cl].append(al)\n",
    "    diccionario_anchos[cl].append(an)\n",
    "    #print(\"Numero:\",cl,\"intwensidad\",num)\n",
    "\n",
    "for key, value in diccionario_altos.items():\n",
    "    print(key,np.mean(value),np.std(value))\n",
    "    \n",
    "for key, value in diccionario_anchos.items():\n",
    "    print(key,np.mean(value),np.std(value))"
   ]
  },
  {
   "cell_type": "code",
   "execution_count": 44,
   "metadata": {},
   "outputs": [
    {
     "name": "stderr",
     "output_type": "stream",
     "text": [
      "/opt/anaconda3-4.4.0/lib/python3.6/site-packages/skimage/util/dtype.py:122: UserWarning: Possible precision loss when converting from float64 to uint8\n",
      "  .format(dtypeobj_in, dtypeobj_out))\n"
     ]
    }
   ],
   "source": [
    "#n_rectas altos anchos i_m i_m_u\n",
    "import numpy as np\n",
    "from functools import reduce\n",
    "size_dataset = 500\n",
    "\n",
    "numero_rectas = np.fromiter(map(proceso_imagenes.contar_rectas,imagenes[:size_dataset]),dtype=int)\n",
    "altos = np.fromiter(map(proceso_imagenes.alto_numero, imagenes[:size_dataset]),dtype=int)\n",
    "anchos = np.fromiter(map(proceso_imagenes.ancho_numero, imagenes[:size_dataset]),dtype=int)\n",
    "intensidades_medias_umbralizadas = np.fromiter(map(proceso_imagenes.intensidad_media_umbralizada,imagenes[:size_dataset]),\n",
    "                                               dtype=int)\n",
    "intensidades_medias = np.fromiter(map(proceso_imagenes.intensidad_media, imagenes[:size_dataset]),dtype=int)\n",
    "\n",
    "u = np.asarray(list(map(lambda x: proceso_imagenes.estandarizar(proceso_imagenes.proyeccion_y(x)),imagenes[:size_dataset])))\n",
    "v = np.asarray(list(map(lambda x: proceso_imagenes.estandarizar(proceso_imagenes.proyeccion_x(x)),imagenes[:size_dataset])))"
   ]
  },
  {
   "cell_type": "code",
   "execution_count": 45,
   "metadata": {},
   "outputs": [
    {
     "name": "stdout",
     "output_type": "stream",
     "text": [
      "(500, 64)\n",
      "(500, 5)\n",
      "(500, 133)\n"
     ]
    }
   ],
   "source": [
    "dataset = reduce(lambda x,y: np.vstack((x,y)),[numero_rectas,altos,anchos,intensidades_medias,intensidades_medias_umbralizadas]).T\n",
    "print(u.shape)\n",
    "print(dataset.shape)\n",
    "\n",
    "dataset = reduce(lambda x,y: np.hstack((x,y)),[dataset,u,v])\n",
    "\n",
    "print(dataset.shape)"
   ]
  },
  {
   "cell_type": "code",
   "execution_count": null,
   "metadata": {
    "scrolled": false
   },
   "outputs": [],
   "source": [
    "import matplotlib.pyplot as plt \n",
    "\n",
    "x_1 = np.arange(v.shape[1])\n",
    "x_2 = np.arange(u.shape[1])[::-1]\n",
    "\n",
    "for c in np.unique(clases):\n",
    "    print(c)\n",
    "    for cl, vv, uu in zip(clases,v,u):\n",
    "        if cl ==c:\n",
    "            f, ax = plt.subplots(1, 6,figsize=(10,10))\n",
    "            \n",
    "            hist_1 = proceso_imagenes.convolucion(vv)\n",
    "            hist_2 = proceso_imagenes.convolucion(uu)\n",
    "            \n",
    "            ax[0].plot(x_1,vv)\n",
    "            ax[1].plot(uu,x_2)\n",
    "            \n",
    "            ax[0].plot(x_1, hist_1)\n",
    "            ax[1].plot(hist_2, x_2)\n",
    "            \n",
    "            estirado_1 = proceso_imagenes.estirar(hist_1)\n",
    "            estirado_2 = proceso_imagenes.estirar(hist_2)\n",
    "            \n",
    "            x_1_estirado = np.arange(estirado_1.shape[0])\n",
    "            x_2_estirado = np.arange(estirado_2.shape[0])[::-1]\n",
    "            \n",
    "            ax[2].plot(x_1_estirado, estirado_1)\n",
    "            ax[3].plot(estirado_2, x_2_estirado)\n",
    "            \n",
    "            resample_1, n_bins_1 = proceso_imagenes.resample(estirado_1)\n",
    "            resample_2, n_bins_2 = proceso_imagenes.resample(estirado_2)\n",
    "            \n",
    "            reasmple_x_1 = np.arange(n_bins_1)\n",
    "            reasmple_x_2 = np.arange(n_bins_2)\n",
    "            \n",
    "            \n",
    "            ax[4].plot(reasmple_x_1, resample_1)\n",
    "            ax[5].plot(resample_2, reasmple_x_2)\n",
    "            \n",
    "            plt.show()\n",
    "            plt.close()\n",
    "    "
   ]
  },
  {
   "cell_type": "code",
   "execution_count": 50,
   "metadata": {},
   "outputs": [
    {
     "name": "stdout",
     "output_type": "stream",
     "text": [
      "(500, 133)\n"
     ]
    }
   ],
   "source": [
    "print(dataset.shape)"
   ]
  },
  {
   "cell_type": "code",
   "execution_count": 51,
   "metadata": {
    "scrolled": false
   },
   "outputs": [
    {
     "name": "stdout",
     "output_type": "stream",
     "text": [
      "0.78\n",
      "ERR clase: 5 prediccion 0\n",
      "ERR clase: 2 prediccion 3\n",
      "OK clase: 1\n",
      "OK clase: 6\n",
      "OK clase: 3\n",
      "OK clase: 2\n",
      "OK clase: 6\n",
      "OK clase: 5\n",
      "OK clase: 2\n",
      "OK clase: 6\n",
      "OK clase: 9\n",
      "OK clase: 6\n",
      "ERR clase: 5 prediccion 3\n",
      "ERR clase: 4 prediccion 1\n",
      "ERR clase: 1 prediccion 2\n",
      "OK clase: 7\n",
      "OK clase: 3\n",
      "OK clase: 1\n",
      "ERR clase: 5 prediccion 2\n",
      "OK clase: 9\n",
      "OK clase: 5\n",
      "ERR clase: 8 prediccion 6\n",
      "OK clase: 7\n",
      "OK clase: 4\n",
      "ERR clase: 1 prediccion 3\n",
      "OK clase: 2\n",
      "OK clase: 0\n",
      "OK clase: 6\n",
      "ERR clase: 8 prediccion 3\n",
      "OK clase: 5\n",
      "OK clase: 8\n",
      "OK clase: 9\n",
      "OK clase: 2\n",
      "OK clase: 2\n",
      "OK clase: 0\n",
      "OK clase: 6\n",
      "OK clase: 9\n",
      "OK clase: 4\n",
      "OK clase: 6\n",
      "OK clase: 3\n",
      "OK clase: 1\n",
      "OK clase: 3\n",
      "OK clase: 9\n",
      "OK clase: 0\n",
      "OK clase: 0\n",
      "OK clase: 0\n",
      "OK clase: 6\n",
      "ERR clase: 8 prediccion 6\n",
      "ERR clase: 8 prediccion 9\n",
      "OK clase: 1\n"
     ]
    }
   ],
   "source": [
    "from sklearn.neighbors import KNeighborsClassifier\n",
    "from sklearn.naive_bayes import GaussianNB\n",
    "from sklearn.linear_model import LinearRegression\n",
    "\n",
    "last_index_train = 450\n",
    "\n",
    "dataset_train = dataset[:last_index_train]\n",
    "clases_train = clases[:last_index_train]\n",
    "\n",
    "dataset_test = dataset[last_index_train:size_dataset]\n",
    "clases_test = clases[last_index_train:size_dataset]\n",
    "\n",
    "model = KNeighborsClassifier(n_neighbors=3)\n",
    "#model = GaussianNB()\n",
    "#model = LinearRegression()\n",
    "model.fit(dataset_train,clases_train)\n",
    "print(model.score(dataset_test,clases_test))\n",
    "\n",
    "\n",
    "for row,c in zip(dataset_test,clases_test):\n",
    "    prediccion = model.predict(row.reshape(1,-1))\n",
    "    if prediccion == c:\n",
    "        print(\"OK clase:\" ,c)\n",
    "    else:\n",
    "        print(\"ERR clase:\", c, \"prediccion\",prediccion[0])\n"
   ]
  },
  {
   "cell_type": "code",
   "execution_count": null,
   "metadata": {
    "collapsed": true
   },
   "outputs": [],
   "source": []
  },
  {
   "cell_type": "code",
   "execution_count": null,
   "metadata": {
    "collapsed": true
   },
   "outputs": [],
   "source": []
  },
  {
   "cell_type": "code",
   "execution_count": null,
   "metadata": {
    "collapsed": true
   },
   "outputs": [],
   "source": []
  },
  {
   "cell_type": "code",
   "execution_count": null,
   "metadata": {
    "collapsed": true
   },
   "outputs": [],
   "source": []
  },
  {
   "cell_type": "code",
   "execution_count": null,
   "metadata": {
    "collapsed": true
   },
   "outputs": [],
   "source": []
  }
 ],
 "metadata": {
  "kernelspec": {
   "display_name": "Python 3",
   "language": "python",
   "name": "python3"
  },
  "language_info": {
   "codemirror_mode": {
    "name": "ipython",
    "version": 3
   },
   "file_extension": ".py",
   "mimetype": "text/x-python",
   "name": "python",
   "nbconvert_exporter": "python",
   "pygments_lexer": "ipython3",
   "version": "3.6.1"
  }
 },
 "nbformat": 4,
 "nbformat_minor": 2
}
