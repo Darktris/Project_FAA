{
 "cells": [
  {
   "cell_type": "code",
   "execution_count": null,
   "metadata": {
    "collapsed": true
   },
   "outputs": [],
   "source": [
    "%load_ext autoreload\n",
    "%autoreload 2\n",
    "%reload_ext autoreload"
   ]
  },
  {
   "cell_type": "code",
   "execution_count": null,
   "metadata": {
    "collapsed": true
   },
   "outputs": [],
   "source": [
    "\n",
    "\n",
    "import proceso_imagenes\n",
    "import matplotlib.pyplot as plt\n",
    "\n",
    "imagenes, clases = proceso_imagenes.cargar_numeros(\"./nums\")\n",
    "\n"
   ]
  },
  {
   "cell_type": "code",
   "execution_count": 6,
   "metadata": {
    "scrolled": false
   },
   "outputs": [
    {
     "name": "stderr",
     "output_type": "stream",
     "text": [
      "/home/alex/anaconda3/lib/python3.6/site-packages/skimage/util/dtype.py:122: UserWarning: Possible precision loss when converting from float64 to uint8\n",
      "  .format(dtypeobj_in, dtypeobj_out))\n",
      "/home/alex/anaconda3/lib/python3.6/site-packages/skimage/util/dtype.py:122: UserWarning: Possible precision loss when converting from float64 to uint8\n",
      "  .format(dtypeobj_in, dtypeobj_out))\n"
     ]
    },
    {
     "name": "stdout",
     "output_type": "stream",
     "text": [
      "0 19.6722689076 9.42739548382\n",
      "1 2.17647058824 1.53747068742\n",
      "2 4.8487394958 2.60780552796\n",
      "3 10.8319327731 6.59681528426\n",
      "4 4.55462184874 2.18742578838\n",
      "5 6.97478991597 5.57223336013\n",
      "6 10.8235294118 6.95924155389\n",
      "7 4.26050420168 2.23216435976\n",
      "8 10.1428571429 7.23934826247\n",
      "9 3.2268907563 2.07196969086\n"
     ]
    },
    {
     "name": "stderr",
     "output_type": "stream",
     "text": [
      "Process ForkPoolWorker-10:\n",
      "Process ForkPoolWorker-9:\n",
      "Traceback (most recent call last):\n",
      "Traceback (most recent call last):\n",
      "  File \"/home/alex/anaconda3/lib/python3.6/multiprocessing/process.py\", line 258, in _bootstrap\n",
      "    self.run()\n",
      "  File \"/home/alex/anaconda3/lib/python3.6/multiprocessing/process.py\", line 93, in run\n",
      "    self._target(*self._args, **self._kwargs)\n",
      "  File \"/home/alex/anaconda3/lib/python3.6/multiprocessing/process.py\", line 258, in _bootstrap\n",
      "    self.run()\n",
      "  File \"/home/alex/anaconda3/lib/python3.6/multiprocessing/pool.py\", line 108, in worker\n",
      "    task = get()\n",
      "  File \"/home/alex/anaconda3/lib/python3.6/multiprocessing/queues.py\", line 334, in get\n",
      "    with self._rlock:\n",
      "  File \"/home/alex/anaconda3/lib/python3.6/multiprocessing/process.py\", line 93, in run\n",
      "    self._target(*self._args, **self._kwargs)\n",
      "  File \"/home/alex/anaconda3/lib/python3.6/multiprocessing/synchronize.py\", line 96, in __enter__\n",
      "    return self._semlock.__enter__()\n",
      "  File \"/home/alex/anaconda3/lib/python3.6/multiprocessing/pool.py\", line 108, in worker\n",
      "    task = get()\n",
      "  File \"/home/alex/anaconda3/lib/python3.6/multiprocessing/queues.py\", line 335, in get\n",
      "    res = self._reader.recv_bytes()\n",
      "  File \"/home/alex/anaconda3/lib/python3.6/multiprocessing/connection.py\", line 216, in recv_bytes\n",
      "    buf = self._recv_bytes(maxlength)\n",
      "  File \"/home/alex/anaconda3/lib/python3.6/multiprocessing/connection.py\", line 407, in _recv_bytes\n",
      "    buf = self._recv(4)\n",
      "KeyboardInterrupt\n",
      "  File \"/home/alex/anaconda3/lib/python3.6/multiprocessing/connection.py\", line 379, in _recv\n",
      "    chunk = read(handle, remaining)\n",
      "KeyboardInterrupt\n"
     ]
    }
   ],
   "source": [
    "import numpy as np\n",
    "from multiprocessing import Pool\n",
    "\n",
    "p = Pool(2)\n",
    "\n",
    "diccionario_numero_rectas = dict([ (key,[]) for key in range(0,10)])\n",
    "\n",
    "numero_rectas = np.fromiter(p.map(proceso_imagenes.contar_rectas,imagenes),dtype=int)\n",
    "\n",
    "for num, cl in zip(numero_rectas,clases):\n",
    "    diccionario_numero_rectas[cl].append(num)\n",
    "    #print(\"Numero:\",cl,\"numero rectas\",num)\n",
    "\n"
   ]
  },
  {
   "cell_type": "code",
   "execution_count": 24,
   "metadata": {},
   "outputs": [
    {
     "name": "stdout",
     "output_type": "stream",
     "text": [
      "19.67 ± 9.43\n",
      "2.18 ± 1.54\n",
      "4.85 ± 2.61\n",
      "10.83 ± 6.60\n",
      "4.55 ± 2.19\n",
      "6.97 ± 5.57\n",
      "10.82 ± 6.96\n",
      "4.26 ± 2.23\n",
      "10.14 ± 7.24\n",
      "3.23 ± 2.07\n"
     ]
    }
   ],
   "source": [
    "for key, value in diccionario_numero_rectas.items():\n",
    "    print(\"%.2f\" % np.mean(value),\"± %.2f\" %np.std(value))"
   ]
  },
  {
   "cell_type": "code",
   "execution_count": 25,
   "metadata": {
    "scrolled": false
   },
   "outputs": [
    {
     "name": "stdout",
     "output_type": "stream",
     "text": [
      "198.63 ± 7.07\n",
      "205.34 ± 6.28\n",
      "199.03 ± 6.69\n",
      "199.61 ± 6.32\n",
      "200.78 ± 6.73\n",
      "199.73 ± 6.72\n",
      "200.21 ± 6.98\n",
      "201.82 ± 6.78\n",
      "195.55 ± 7.50\n",
      "199.63 ± 6.58\n"
     ]
    }
   ],
   "source": [
    "diccionario_intensidades = dict([ (key,[]) for key in range(0,10)])\n",
    "\n",
    "intensidades_medias = np.fromiter(p.map(proceso_imagenes.intensidad_media, imagenes),dtype=int)\n",
    "\n",
    "for num, cl in zip(intensidades_medias,clases):\n",
    "    diccionario_intensidades[cl].append(num)\n",
    "    #print(\"Numero:\",cl,\"intwensidad\",num)\n",
    "\n",
    "for key, value in diccionario_intensidades.items():\n",
    "    print(\"%.2f\" % np.mean(value),\"± %.2f\" %np.std(value))"
   ]
  },
  {
   "cell_type": "code",
   "execution_count": 27,
   "metadata": {},
   "outputs": [
    {
     "name": "stdout",
     "output_type": "stream",
     "text": [
      "219.50 ± 9.79\n",
      "230.94 ± 7.89\n",
      "221.92 ± 8.71\n",
      "220.82 ± 8.80\n",
      "221.96 ± 9.24\n",
      "219.76 ± 8.72\n",
      "219.92 ± 8.78\n",
      "222.07 ± 8.80\n",
      "214.45 ± 10.29\n",
      "219.81 ± 9.14\n"
     ]
    }
   ],
   "source": [
    "diccionario_intensidades_umbralizadas = dict([ (key,[]) for key in range(0,10)])\n",
    "\n",
    "intensidades_medias_umbralizadas = np.fromiter(p.map(proceso_imagenes.intensidad_media_umbralizada,imagenes),\n",
    "                                               dtype=int)\n",
    "\n",
    "for num, cl in zip(intensidades_medias_umbralizadas,clases):\n",
    "    diccionario_intensidades_umbralizadas[cl].append(num)\n",
    "    #print(\"Numero:\",cl,\"intwensidad\",num)\n",
    "\n",
    "for key, value in diccionario_intensidades_umbralizadas.items():\n",
    "    print(\"%.2f\" % np.mean(value),\"± %.2f\" %np.std(value))"
   ]
  },
  {
   "cell_type": "code",
   "execution_count": null,
   "metadata": {
    "collapsed": true
   },
   "outputs": [],
   "source": [
    "diccionario_intensidades_median = dict([ (key,[]) for key in range(0,10)])\n",
    "\n",
    "intensidades_median = np.fromiter(map(proceso_imagenes.intensidad_mediana, imagenes),dtype=int)\n",
    "\n",
    "for num, cl in zip(intensidades_median,clases):\n",
    "    diccionario_intensidades_median[cl].append(num)\n",
    "    #print(\"Numero:\",cl,\"intwensidad\",num)\n",
    "\n",
    "for key, value in diccionario_intensidades_median.items():\n",
    "    print(key,np.mean(value),np.std(value))"
   ]
  },
  {
   "cell_type": "code",
   "execution_count": null,
   "metadata": {
    "collapsed": true
   },
   "outputs": [],
   "source": [
    "diccionario_intensidades_median_umbralizada = dict([ (key,[]) for key in range(0,10)])\n",
    "\n",
    "intensidades_median_umbralizada = np.fromiter(map(proceso_imagenes.intensidad_mediana_umbralizada, imagenes),dtype=int)\n",
    "\n",
    "for num, cl in zip(intensidades_median_umbralizada,clases):\n",
    "    diccionario_intensidades_median_umbralizada[cl].append(num)\n",
    "    #print(\"Numero:\",cl,\"intwensidad\",num)\n",
    "\n",
    "for key, value in diccionario_intensidades_median_umbralizada.items():\n",
    "    print(key,np.mean(value),np.std(value))"
   ]
  },
  {
   "cell_type": "code",
   "execution_count": 29,
   "metadata": {
    "scrolled": false
   },
   "outputs": [
    {
     "name": "stdout",
     "output_type": "stream",
     "text": [
      "204.65 ± 40.51\n",
      "212.10 ± 41.93\n",
      "218.08 ± 40.84\n",
      "226.82 ± 39.83\n",
      "236.45 ± 47.66\n",
      "226.09 ± 35.14\n",
      "223.68 ± 36.85\n",
      "226.83 ± 41.32\n",
      "229.26 ± 38.41\n",
      "244.90 ± 48.48\n",
      "mmm\n",
      "165.01 ± 32.29\n",
      "107.98 ± 43.77\n",
      "152.83 ± 30.87\n",
      "148.82 ± 26.55\n",
      "148.61 ± 27.95\n",
      "159.25 ± 30.00\n",
      "146.88 ± 29.02\n",
      "153.32 ± 33.82\n",
      "147.93 ± 29.25\n",
      "144.09 ± 31.25\n"
     ]
    }
   ],
   "source": [
    "diccionario_altos = dict([ (key,[]) for key in range(0,10)])\n",
    "diccionario_anchos = dict([ (key,[]) for key in range(0,10)])\n",
    "\n",
    "altos = np.fromiter(p.map(proceso_imagenes.alto_numero, imagenes),dtype=int)\n",
    "anchos = np.fromiter(p.map(proceso_imagenes.ancho_numero, imagenes),dtype=int)\n",
    "\n",
    "for al,an, cl in zip(altos,anchos,clases):\n",
    "    diccionario_altos[cl].append(al)\n",
    "    diccionario_anchos[cl].append(an)\n",
    "    #print(\"Numero:\",cl,\"intwensidad\",num)\n",
    "\n",
    "for key, value in diccionario_altos.items():\n",
    "    print(\"%.2f\" % np.mean(value),\"± %.2f\" %np.std(value))\n",
    "    \n",
    "print(\"mmm\")\n",
    "for key, value in diccionario_anchos.items():\n",
    "    print(\"%.2f\" % np.mean(value),\"± %.2f\" %np.std(value))"
   ]
  },
  {
   "cell_type": "code",
   "execution_count": null,
   "metadata": {
    "scrolled": false
   },
   "outputs": [
    {
     "name": "stderr",
     "output_type": "stream",
     "text": [
      "Process ForkPoolWorker-4:\n",
      "Process ForkPoolWorker-3:\n",
      "Traceback (most recent call last):\n",
      "Traceback (most recent call last):\n",
      "  File \"/home/alex/anaconda3/lib/python3.6/multiprocessing/process.py\", line 258, in _bootstrap\n",
      "    self.run()\n",
      "  File \"/home/alex/anaconda3/lib/python3.6/multiprocessing/process.py\", line 93, in run\n",
      "    self._target(*self._args, **self._kwargs)\n",
      "  File \"/home/alex/anaconda3/lib/python3.6/multiprocessing/process.py\", line 258, in _bootstrap\n",
      "    self.run()\n",
      "  File \"/home/alex/anaconda3/lib/python3.6/multiprocessing/pool.py\", line 108, in worker\n",
      "    task = get()\n",
      "  File \"/home/alex/anaconda3/lib/python3.6/multiprocessing/process.py\", line 93, in run\n",
      "    self._target(*self._args, **self._kwargs)\n",
      "  File \"/home/alex/anaconda3/lib/python3.6/multiprocessing/queues.py\", line 334, in get\n",
      "    with self._rlock:\n",
      "  File \"/home/alex/anaconda3/lib/python3.6/multiprocessing/pool.py\", line 108, in worker\n",
      "    task = get()\n",
      "  File \"/home/alex/anaconda3/lib/python3.6/multiprocessing/synchronize.py\", line 96, in __enter__\n",
      "    return self._semlock.__enter__()\n",
      "  File \"/home/alex/anaconda3/lib/python3.6/multiprocessing/queues.py\", line 335, in get\n",
      "    res = self._reader.recv_bytes()\n",
      "  File \"/home/alex/anaconda3/lib/python3.6/multiprocessing/connection.py\", line 216, in recv_bytes\n",
      "    buf = self._recv_bytes(maxlength)\n",
      "KeyboardInterrupt\n",
      "  File \"/home/alex/anaconda3/lib/python3.6/multiprocessing/connection.py\", line 407, in _recv_bytes\n",
      "    buf = self._recv(4)\n",
      "  File \"/home/alex/anaconda3/lib/python3.6/multiprocessing/connection.py\", line 379, in _recv\n",
      "    chunk = read(handle, remaining)\n",
      "KeyboardInterrupt\n"
     ]
    }
   ],
   "source": [
    "#n_rectas altos anchos i_m i_m_u\n",
    "import numpy as np\n",
    "from functools import reduce\n",
    "from multiprocessing import Pool\n",
    "\n",
    "p = Pool(2)\n",
    "\n",
    "#numero_rectas = np.fromiter(p.map(proceso_imagenes.contar_rectas,imagenes),dtype=int)\n",
    "#altos = np.fromiter(p.map(proceso_imagenes.alto_numero, imagenes),dtype=int)\n",
    "#anchos = np.fromiter(p.map(proceso_imagenes.ancho_numero, imagenes),dtype=int)\n",
    "#intensidades_medias_umbralizadas = np.fromiter(p.map(proceso_imagenes.intensidad_media_umbralizada,imagenes),\n",
    "#                                              dtype=int)\n",
    "#intensidades_medias = np.fromiter(p.map(proceso_imagenes.intensidad_media, imagenes),dtype=int)\n",
    "\n",
    "proyeccion_x = np.asarray(list(p.map(proceso_imagenes.proyeccion_x,imagenes)))\n",
    "proyeccion_y = np.asarray(list(p.map(proceso_imagenes.proyeccion_y,imagenes)))\n",
    "\n",
    "proyeccion_x_norm = np.asarray(list(p.map(proceso_imagenes.preparar,proyeccion_x)))\n",
    "proyeccion_y_norm = np.asarray(list(p.map(proceso_imagenes.preparar,proyeccion_y)))\n",
    "\n",
    "print(\"Done\")"
   ]
  },
  {
   "cell_type": "code",
   "execution_count": null,
   "metadata": {
    "collapsed": true
   },
   "outputs": [],
   "source": [
    "dataset = reduce(lambda x,y: np.vstack((x,y)),[numero_rectas,altos,anchos,intensidades_medias,intensidades_medias_umbralizadas]).T\n",
    "print(u.shape)\n",
    "print(dataset.shape)\n",
    "\n",
    "dataset = reduce(lambda x,y: np.hstack((x,y)),[dataset,u,v])\n",
    "\n",
    "print(dataset.shape)"
   ]
  },
  {
   "cell_type": "code",
   "execution_count": null,
   "metadata": {
    "collapsed": true,
    "scrolled": true
   },
   "outputs": [],
   "source": [
    "import matplotlib.pyplot as plt \n",
    "\n",
    "x_1 = np.arange(v.shape[1])\n",
    "x_2 = np.arange(u.shape[1])[::-1]\n",
    "\n",
    "for c in np.unique(clases):\n",
    "    print(c)\n",
    "    for cl, vv, uu in zip(clases,v,u):\n",
    "        if cl ==c:\n",
    "            f, ax = plt.subplots(2, 2,figsize=(10,10))\n",
    "            \n",
    "            hist_1 = proceso_imagenes.convolucion(vv)\n",
    "            hist_2 = proceso_imagenes.convolucion(uu)\n",
    "            \n",
    "            ax[0][0].plot(x_1,vv)\n",
    "            ax[1].plot(uu,x_2)\n",
    "            \n",
    "            ax[0].plot(x_1, hist_1)\n",
    "            ax[1].plot(hist_2, x_2)\n",
    "            \n",
    "            estirado_1 = proceso_imagenes.estirar(hist_1)\n",
    "            estirado_2 = proceso_imagenes.estirar(hist_2)\n",
    "            \n",
    "            x_1_estirado = np.arange(estirado_1.shape[0])\n",
    "            x_2_estirado = np.arange(estirado_2.shape[0])[::-1]\n",
    "            \n",
    "            ax[2].plot(x_1_estirado, estirado_1)\n",
    "            ax[3].plot(estirado_2, x_2_estirado)\n",
    "            \n",
    "            resample_1, n_bins_1 = proceso_imagenes.resample(estirado_1)\n",
    "            resample_2, n_bins_2 = proceso_imagenes.resample(estirado_2)\n",
    "            \n",
    "            reasmple_x_1 = np.arange(n_bins_1)\n",
    "            reasmple_x_2 = np.arange(n_bins_2)\n",
    "            \n",
    "            \n",
    "            ax[4].plot(reasmple_x_1, resample_1)\n",
    "            ax[5].plot(resample_2, reasmple_x_2)\n",
    "            \n",
    "            plt.show()\n",
    "            plt.close()\n",
    "    "
   ]
  },
  {
   "cell_type": "code",
   "execution_count": null,
   "metadata": {
    "collapsed": true
   },
   "outputs": [],
   "source": [
    "proyecc_y_norm[0].shape"
   ]
  },
  {
   "cell_type": "code",
   "execution_count": null,
   "metadata": {
    "collapsed": true,
    "scrolled": true
   },
   "outputs": [],
   "source": [
    "import matplotlib.pyplot as plt\n",
    "\n",
    "plot = False\n",
    "lista = zip(clases,imagenes,proyeccion_x,proyeccion_y,proyeccion_x_norm,proyeccion_y_norm)\n",
    "\n",
    "for cl, image , p_x , p_y, p_x_norm, p_y_norm in lista:\n",
    "    \n",
    "    bins_x = np.arange(p_x.shape[0])\n",
    "    bins_y = np.arange(p_y.shape[0])[::-1] # La imagen se lee de arriba a abajo\n",
    "    bins_x_norm = np.arange(p_x_norm.shape[0])\n",
    "    bins_y_norm = np.arange(p_y_norm.shape[0])[::-1] # La imagen se lee de arriba a abajo\n",
    "    \n",
    "\n",
    "    if (p_x<0).sum() > 0 or (p_y<0).sum() > 0 or (p_x_norm<0).sum() > 0 or (p_y_norm<0).sum() > 0:\n",
    "        print(cl)\n",
    "        print(\"p_x\",p_x[p_x<0])\n",
    "        print(\"p_y\",p_y[p_y<0])\n",
    "        print(\"p_x_norm\",p_x_norm[p_x_norm<0])\n",
    "        print(\"p_y_norm\",p_y_norm[p_y_norm<0])\n",
    "        \n",
    "        # imagen\n",
    "        plt.figure()\n",
    "        plt.imshow(image,cmap='gray')\n",
    "        plt.show()\n",
    "        plt.close()\n",
    "\n",
    "        f, ax = plt.subplots(2,2,figsize=(8,8))\n",
    "        f.tight_layout()\n",
    "\n",
    "        ax[0,0].plot(bins_x,p_x,color='r')\n",
    "        ax[0,1].plot(p_y,bins_y,color='r')\n",
    "        ax[1,0].plot(bins_x_norm,p_x_norm,color='r')\n",
    "        ax[1,1].plot(p_y_norm,bins_y_norm,color='r')\n",
    "\n",
    "        ax[0,0].set_title(\"Proyeccion eje x\")\n",
    "        ax[0,1].set_title(\"Proyeccion eje y\")\n",
    "        ax[1,0].set_title(\"Proyeccion eje x normalizado\")\n",
    "        ax[1,1].set_title(\"Proyeccion eje y normalizado\")\n",
    "\n",
    "\n",
    "\n",
    "        plt.show()\n",
    "        plt.close()\n",
    "   \n",
    "    if plot:\n",
    "        print(cl)\n",
    "    \n",
    "        # imagen\n",
    "        plt.figure()\n",
    "        plt.imshow(image,cmap='gray')\n",
    "        plt.show()\n",
    "        plt.close()\n",
    "\n",
    "        f, ax = plt.subplots(2,2,figsize=(8,8))\n",
    "        f.tight_layout()\n",
    "\n",
    "        ax[0,0].plot(bins_x,p_x,color='r')\n",
    "        ax[0,1].plot(p_y,bins_y,color='r')\n",
    "        ax[1,0].plot(bins_x_norm,p_x_norm,color='r')\n",
    "        ax[1,1].plot(p_y_norm,bins_y_norm,color='r')\n",
    "\n",
    "        ax[0,0].set_title(\"Proyeccion eje x\")\n",
    "        ax[0,1].set_title(\"Proyeccion eje y\")\n",
    "        ax[1,0].set_title(\"Proyeccion eje x normalizado\")\n",
    "        ax[1,1].set_title(\"Proyeccion eje y normalizado\")\n",
    "\n",
    "\n",
    "\n",
    "        plt.show()\n",
    "        plt.close()\n",
    "    "
   ]
  },
  {
   "cell_type": "code",
   "execution_count": null,
   "metadata": {
    "collapsed": true
   },
   "outputs": [],
   "source": [
    "print(dataset.shape)"
   ]
  },
  {
   "cell_type": "code",
   "execution_count": null,
   "metadata": {
    "collapsed": true,
    "scrolled": false
   },
   "outputs": [],
   "source": [
    "from sklearn.neighbors import KNeighborsClassifier\n",
    "from sklearn.naive_bayes import GaussianNB\n",
    "from sklearn.linear_model import LinearRegression\n",
    "\n",
    "last_index_train = 450\n",
    "\n",
    "dataset_train = dataset[:last_index_train]\n",
    "clases_train = clases[:last_index_train]\n",
    "\n",
    "dataset_test = dataset[last_index_train:size_dataset]\n",
    "clases_test = clases[last_index_train:size_dataset]\n",
    "\n",
    "model = KNeighborsClassifier(n_neighbors=3)\n",
    "#model = GaussianNB()\n",
    "#model = LinearRegression()\n",
    "model.fit(dataset_train,clases_train)\n",
    "print(model.score(dataset_test,clases_test))\n",
    "\n",
    "\n",
    "for row,c in zip(dataset_test,clases_test):\n",
    "    prediccion = model.predict(row.reshape(1,-1))\n",
    "    if prediccion == c:\n",
    "        print(\"OK clase:\" ,c)\n",
    "    else:\n",
    "        print(\"ERR clase:\", c, \"prediccion\",prediccion[0])\n"
   ]
  },
  {
   "cell_type": "code",
   "execution_count": null,
   "metadata": {
    "collapsed": true
   },
   "outputs": [],
   "source": [
    "\n",
    "print((proyeccion_x_norm < 0).sum())\n",
    "print((proyeccion_y_norm < 0).sum())\n",
    "#dataset = np.hstack((proyeccion_x_norm,proyeccion_y_norm))"
   ]
  },
  {
   "cell_type": "code",
   "execution_count": null,
   "metadata": {
    "collapsed": true,
    "scrolled": false
   },
   "outputs": [],
   "source": [
    "from sklearn.model_selection import train_test_split\n",
    "from sklearn.neighbors import KNeighborsClassifier\n",
    "from sklearn.naive_bayes import GaussianNB\n",
    "from sklearn.linear_model import LinearRegression\n",
    "from sklearn.tree import DecisionTreeClassifier\n",
    "from sklearn.ensemble import RandomForestClassifier\n",
    "from sklearn.model_selection import cross_val_score\n",
    "\n",
    "l_n_neighbors = [1,3,5,7,11,23]\n",
    "\n",
    "split = train_test_split(dataset,clases,test_size=0.33)\n",
    "\n",
    "train_attr = split[0]\n",
    "test_attr = split[1]\n",
    "\n",
    "train_labels = np.asarray(split[2])\n",
    "test_labels = np.asarray(split[3])\n",
    "\n",
    "print((dataset < 0).sum())\n",
    "\n",
    "def hellinger(x,y):\n",
    "    return np.sqrt(np.sum((np.sqrt(x) - np.sqrt(y))**2))\n",
    "\n",
    "for n_neighbors in l_n_neighbors:\n",
    "    model = KNeighborsClassifier(n_neighbors=n_neighbors,metric=hellinger)\n",
    "    model.fit(train_attr,train_labels)\n",
    "\n",
    "    print(\"Score \",n_neighbors, \"-NN:\",model.score(test_attr,test_labels))\n",
    "\n",
    "\n",
    "model = GaussianNB()\n",
    "model.fit(train_attr,train_labels)\n",
    "print(\"Score GaussianNB:\",model.score(test_attr,test_labels))\n",
    "\n",
    "for normalize in [True, False]:\n",
    "    model = LinearRegression(normalize=normalize)\n",
    "    model.fit(train_attr,train_labels)\n",
    "\n",
    "    print(\"Score LinearRegression (norm=\",normalize,\"):\",model.score(test_attr,test_labels))\n",
    "    \n",
    "model = RandomForestClassifier(max_depth=5, n_estimators=10, max_features=1)\n",
    "model.fit(train_attr,train_labels)\n",
    "print(\"Score RandomForest:\",model.score(test_attr,test_labels))\n"
   ]
  },
  {
   "cell_type": "code",
   "execution_count": null,
   "metadata": {
    "collapsed": true
   },
   "outputs": [],
   "source": [
    "split = train_test_split(dataset,clases,test_size=.25)\n",
    "\n",
    "train_attr = split[0]\n",
    "test_attr = split[1]\n",
    "\n",
    "train_labels = np.asarray(split[2])\n",
    "test_labels = np.asarray(split[3])\n",
    "\n",
    "# Random Forest\n",
    "model = RandomForestClassifier(max_depth=20, n_estimators=200, max_features=20)\n",
    "model.fit(train_attr,train_labels)\n",
    "print(\"Score RandomForest:\",model.score(test_attr,test_labels))\n",
    "scores = cross_val_score(model, dataset, clases, cv=5)\n",
    "print(\"Accuracy: %0.2f (+/- %0.2f)\" % (np.mean(scores), np.std(scores)))\n",
    "\n",
    "# Knn hellinger\n",
    "def hellinger(x,y):\n",
    "    return np.sqrt(np.sum((np.sqrt(x) - np.sqrt(y))**2))\n",
    "\n",
    "for n_neighbors in l_n_neighbors:\n",
    "    model = KNeighborsClassifier(n_neighbors=n_neighbors,metric=hellinger)\n",
    "    model.fit(train_attr,train_labels)\n",
    "    scores = cross_val_score(model, dataset, clases, cv=5)\n",
    "    print(\"Accuracy: %0.2f (+/- %0.2f)\" % (np.mean(scores), np.std(scores)))\n",
    "\n",
    "# Knn minkowski\n",
    "for n_neighbors in l_n_neighbors:\n",
    "    model = KNeighborsClassifier(n_neighbors=n_neighbors)\n",
    "    model.fit(train_attr,train_labels)\n",
    "    scores = cross_val_score(model, dataset, clases, cv=5)\n",
    "    print(\"Accuracy: %0.2f (+/- %0.2f)\" % (np.mean(scores), np.std(scores)))\n",
    "\n",
    "# Gaussian NB  \n",
    "model = GaussianNB()\n",
    "model.fit(train_attr,train_labels)\n",
    "scores = cross_val_score(model, dataset, clases, cv=5)\n",
    "print(\"Accuracy: %0.2f (+/- %0.2f)\" % (np.mean(scores), np.std(scores)))\n",
    "\n",
    "# Linear Regression\n",
    "for normalize in [True, False]:\n",
    "    model = LinearRegression(normalize=normalize)\n",
    "    model.fit(train_attr,train_labels)\n",
    "    scores = cross_val_score(model, dataset, clases, cv=5)\n",
    "    print(\"Accuracy: %0.2f (+/- %0.2f)\" % (np.mean(scores), np.std(scores)))\n"
   ]
  },
  {
   "cell_type": "code",
   "execution_count": null,
   "metadata": {
    "collapsed": true
   },
   "outputs": [],
   "source": [
    "# Codigo en proyecto.ipydndvbd para pintar histogramas\n",
    "\n",
    "import matplotlib.pyplot as plt\n",
    "\n",
    "plot = False\n",
    "execute = False\n",
    "\n",
    "if execute:\n",
    "    lista = zip(clases,imagenes,proyeccion_x,proyeccion_y,proyeccion_x_norm,proyeccion_y_norm)\n",
    "\n",
    "    for cl, image , p_x , p_y, p_x_norm, p_y_norm in lista:\n",
    "\n",
    "        bins_x = np.arange(p_x.shape[0])\n",
    "        bins_y = np.arange(p_y.shape[0])[::-1] # La imagen se lee de arriba a abajo\n",
    "        bins_x_norm = np.arange(p_x_norm.shape[0])\n",
    "        bins_y_norm = np.arange(p_y_norm.shape[0])[::-1] # La imagen se lee de arriba a abajo\n",
    "\n",
    "\n",
    "        if (p_x<0).sum() > 0 or (p_y<0).sum() > 0 or (p_x_norm<0).sum() > 0 or (p_y_norm<0).sum() > 0:\n",
    "            print(cl)\n",
    "            print(\"p_x\",p_x[p_x<0])\n",
    "            print(\"p_y\",p_y[p_y<0])\n",
    "            print(\"p_x_norm\",p_x_norm[p_x_norm<0])\n",
    "            print(\"p_y_norm\",p_y_norm[p_y_norm<0])\n",
    "\n",
    "            # imagen\n",
    "            plt.figure()\n",
    "            plt.imshow(image,cmap='gray')\n",
    "            plt.show()\n",
    "            plt.close()\n",
    "\n",
    "            f, ax = plt.subplots(2,2,figsize=(8,8))\n",
    "            f.tight_layout()\n",
    "\n",
    "            ax[0,0].plot(bins_x,p_x,color='r')\n",
    "            ax[0,1].plot(p_y,bins_y,color='r')\n",
    "            ax[1,0].plot(bins_x_norm,p_x_norm,color='r')\n",
    "            ax[1,1].plot(p_y_norm,bins_y_norm,color='r')\n",
    "\n",
    "            ax[0,0].set_title(\"Proyeccion eje x\")\n",
    "            ax[0,1].set_title(\"Proyeccion eje y\")\n",
    "            ax[1,0].set_title(\"Proyeccion eje x normalizado\")\n",
    "            ax[1,1].set_title(\"Proyeccion eje y normalizado\")\n",
    "\n",
    "\n",
    "\n",
    "            plt.show()\n",
    "            plt.close()\n",
    "\n",
    "        if plot:\n",
    "\n",
    "            if str(cl) == '3':\n",
    "                print(cl)\n",
    "\n",
    "                # imagen\n",
    "                plt.figure()\n",
    "                plt.imshow(image,cmap='gray')\n",
    "                plt.show()\n",
    "                plt.close()\n",
    "\n",
    "                f, ax = plt.subplots(2,2,figsize=(8,8))\n",
    "                f.tight_layout()\n",
    "\n",
    "                ax[0,0].plot(bins_x,p_x,color='r')\n",
    "                ax[0,1].plot(p_y,bins_y,color='r')\n",
    "                ax[1,0].plot(bins_x_norm,p_x_norm,color='r')\n",
    "                ax[1,1].plot(p_y_norm,bins_y_norm,color='r')\n",
    "\n",
    "                ax[0,0].set_title(\"Proyeccion eje x\")\n",
    "                ax[0,1].set_title(\"Proyeccion eje y\")\n",
    "                ax[1,0].set_title(\"Proyeccion eje x procesada\")\n",
    "                ax[1,1].set_title(\"Proyeccion eje y procesada\")\n",
    "\n",
    "\n",
    "\n",
    "                plt.show()\n",
    "                plt.close()"
   ]
  },
  {
   "cell_type": "code",
   "execution_count": null,
   "metadata": {
    "collapsed": true
   },
   "outputs": [],
   "source": []
  }
 ],
 "metadata": {
  "kernelspec": {
   "display_name": "Python 3",
   "language": "python",
   "name": "python3"
  },
  "language_info": {
   "codemirror_mode": {
    "name": "ipython",
    "version": 3
   },
   "file_extension": ".py",
   "mimetype": "text/x-python",
   "name": "python",
   "nbconvert_exporter": "python",
   "pygments_lexer": "ipython3",
   "version": "3.6.3"
  }
 },
 "nbformat": 4,
 "nbformat_minor": 2
}
