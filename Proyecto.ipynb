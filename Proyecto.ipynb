{
 "cells": [
  {
   "cell_type": "code",
   "execution_count": 1,
   "metadata": {
    "collapsed": true
   },
   "outputs": [],
   "source": [
    "%load_ext autoreload\n",
    "%autoreload 2\n",
    "%reload_ext autoreload"
   ]
  },
  {
   "cell_type": "code",
   "execution_count": 2,
   "metadata": {},
   "outputs": [
    {
     "name": "stdout",
     "output_type": "stream",
     "text": [
      "Loaded: 1190 instances\n"
     ]
    }
   ],
   "source": [
    "import proceso_imagenes\n",
    "import matplotlib.pyplot as plt\n",
    "import numpy as np\n",
    "\n",
    "imagenes, clases = proceso_imagenes.cargar_numeros(\"./nums\")\n",
    "print(\"Loaded:\",imagenes.shape[0], \"instances\")"
   ]
  },
  {
   "cell_type": "code",
   "execution_count": 3,
   "metadata": {},
   "outputs": [
    {
     "name": "stdout",
     "output_type": "stream",
     "text": [
      "Proyecciones calculadas\n",
      "Proyecciones procesadas\n",
      "Numero de rectas calculadas\n",
      "Intensidades medias calculadas\n",
      "Altos/anchos calculados\n"
     ]
    }
   ],
   "source": [
    "from multiprocessing import Pool\n",
    "import sys\n",
    "import warnings\n",
    "\n",
    "warnings.filterwarnings('ignore')\n",
    "\n",
    "p = Pool(2)\n",
    "\n",
    "proyeccion_x = np.asarray(list(p.map(proceso_imagenes.proyeccion_x,imagenes)))\n",
    "proyeccion_y = np.asarray(list(p.map(proceso_imagenes.proyeccion_y,imagenes)))\n",
    "print(\"Proyecciones calculadas\")\n",
    "sys.stdout.flush()\n",
    "\n",
    "proyeccion_x_norm = np.asarray(list(p.map(proceso_imagenes.preparar,proyeccion_x)))\n",
    "proyeccion_y_norm = np.asarray(list(p.map(proceso_imagenes.preparar,proyeccion_y)))\n",
    "print(\"Proyecciones procesadas\")\n",
    "sys.stdout.flush()\n",
    "\n",
    "numero_rectas = np.fromiter(p.map(proceso_imagenes.contar_rectas,imagenes),dtype=int)\n",
    "print(\"Numero de rectas calculadas\")\n",
    "sys.stdout.flush()\n",
    "\n",
    "intensidades_medias_umbralizadas = np.fromiter(p.map(proceso_imagenes.intensidad_media_umbralizada,imagenes), dtype=float)\n",
    "print(\"Intensidades medias calculadas\")\n",
    "sys.stdout.flush()\n",
    "\n",
    "altos = np.fromiter(p.map(proceso_imagenes.alto_numero, imagenes),dtype=int)\n",
    "anchos = np.fromiter(p.map(proceso_imagenes.ancho_numero, imagenes),dtype=int)\n",
    "print(\"Altos/anchos calculados\")\n",
    "sys.stdout.flush()\n",
    "\n",
    "p.close()"
   ]
  },
  {
   "cell_type": "code",
   "execution_count": 4,
   "metadata": {},
   "outputs": [
    {
     "name": "stdout",
     "output_type": "stream",
     "text": [
      "Dataset construidos\n"
     ]
    }
   ],
   "source": [
    "dataset_hist = np.hstack((proyeccion_x_norm,proyeccion_y_norm))\n",
    "dataset_miscelanious = np.vstack((numero_rectas,intensidades_medias_umbralizadas,altos,anchos)).T\n",
    "dataset_full = np.hstack((dataset_hist,dataset_miscelanious))\n",
    "print(\"Dataset construidos\")"
   ]
  },
  {
   "cell_type": "code",
   "execution_count": 5,
   "metadata": {
    "scrolled": false
   },
   "outputs": [
    {
     "name": "stdout",
     "output_type": "stream",
     "text": [
      "\n",
      "\n",
      "Dataset: dataset_full \n",
      "\n",
      "\t RandomForestClassifier Accuracy: 0.85 (+/- 0.01)\n",
      "\n",
      "\n",
      "\t KNeighborsClassifier chisq 1 Accuracy: 0.86 (+/- 0.01)\n",
      "\t KNeighborsClassifier chisq 3 Accuracy: 0.85 (+/- 0.02)\n",
      "\t KNeighborsClassifier chisq 5 Accuracy: 0.85 (+/- 0.02)\n",
      "\t KNeighborsClassifier chisq 7 Accuracy: 0.85 (+/- 0.02)\n",
      "\t KNeighborsClassifier chisq 9 Accuracy: 0.85 (+/- 0.02)\n",
      "\t KNeighborsClassifier chisq 11 Accuracy: 0.85 (+/- 0.02)\n",
      "\t KNeighborsClassifier chisq 13 Accuracy: 0.85 (+/- 0.03)\n",
      "\n",
      "\n",
      "\t KNeighborsClassifier minkowski 1 Accuracy: 0.83 (+/- 0.01)\n",
      "\t KNeighborsClassifier minkowski 3 Accuracy: 0.82 (+/- 0.01)\n",
      "\t KNeighborsClassifier minkowski 5 Accuracy: 0.82 (+/- 0.02)\n",
      "\t KNeighborsClassifier minkowski 7 Accuracy: 0.83 (+/- 0.03)\n",
      "\t KNeighborsClassifier minkowski 9 Accuracy: 0.82 (+/- 0.03)\n",
      "\t KNeighborsClassifier minkowski 11 Accuracy: 0.82 (+/- 0.03)\n",
      "\t KNeighborsClassifier minkowski 13 Accuracy: 0.81 (+/- 0.02)\n",
      "\n",
      "\n",
      "\t GaussianNB Accuracy: 0.82 (+/- 0.01)\n",
      "\n",
      "\n",
      "\t DecisionTreeClassifier Accuracy: 0.77 (+/- 0.03)\n",
      "\n",
      "\n",
      "Dataset: dataset_knn \n",
      "\n",
      "\t RandomForestClassifier Accuracy: 0.86 (+/- 0.02)\n",
      "\n",
      "\n",
      "\t KNeighborsClassifier chisq 1 Accuracy: 0.86 (+/- 0.01)\n",
      "\t KNeighborsClassifier chisq 3 Accuracy: 0.85 (+/- 0.02)\n",
      "\t KNeighborsClassifier chisq 5 Accuracy: 0.85 (+/- 0.02)\n",
      "\t KNeighborsClassifier chisq 7 Accuracy: 0.85 (+/- 0.02)\n",
      "\t KNeighborsClassifier chisq 9 Accuracy: 0.85 (+/- 0.02)\n",
      "\t KNeighborsClassifier chisq 11 Accuracy: 0.85 (+/- 0.02)\n",
      "\t KNeighborsClassifier chisq 13 Accuracy: 0.85 (+/- 0.03)\n",
      "\n",
      "\n",
      "\t KNeighborsClassifier minkowski 1 Accuracy: 0.83 (+/- 0.01)\n",
      "\t KNeighborsClassifier minkowski 3 Accuracy: 0.82 (+/- 0.01)\n",
      "\t KNeighborsClassifier minkowski 5 Accuracy: 0.82 (+/- 0.02)\n",
      "\t KNeighborsClassifier minkowski 7 Accuracy: 0.83 (+/- 0.03)\n",
      "\t KNeighborsClassifier minkowski 9 Accuracy: 0.82 (+/- 0.03)\n",
      "\t KNeighborsClassifier minkowski 11 Accuracy: 0.82 (+/- 0.03)\n",
      "\t KNeighborsClassifier minkowski 13 Accuracy: 0.81 (+/- 0.02)\n",
      "\n",
      "\n",
      "\t GaussianNB Accuracy: 0.82 (+/- 0.01)\n",
      "\n",
      "\n",
      "\t DecisionTreeClassifier Accuracy: 0.76 (+/- 0.03)\n"
     ]
    }
   ],
   "source": [
    "from sklearn.model_selection import train_test_split\n",
    "from sklearn.neighbors import KNeighborsClassifier\n",
    "from sklearn.naive_bayes import GaussianNB\n",
    "from sklearn.tree import DecisionTreeClassifier\n",
    "from sklearn.ensemble import RandomForestClassifier\n",
    "from sklearn.model_selection import cross_val_score\n",
    "\n",
    "l_n_neighbors = 2 * np.arange(7) + 1\n",
    "\n",
    "datasets = [dataset_full,dataset_hist]\n",
    "datasets_names = [\"dataset_full\",\n",
    "                  \"dataset_knn\"]\n",
    "\n",
    "max_features = 10\n",
    "\n",
    "def hellinger(x,y):\n",
    "    return np.sqrt(np.sum((np.sqrt(x) - np.sqrt(y))**2))\n",
    "\n",
    "def chisq(x,y):\n",
    "    return np.sum((x - y)**2 / (x+y))\n",
    "\n",
    "# Random Forest\n",
    "for dataset, name in zip(datasets,datasets_names):\n",
    "    print(\"\\n\\nDataset:\",name,\"\\n\")\n",
    "    \n",
    "    split = train_test_split(dataset,clases,test_size=0.25)\n",
    "\n",
    "    train_attr = split[0]\n",
    "    test_attr = split[1]\n",
    "\n",
    "    train_labels = np.asarray(split[2])\n",
    "    test_labels = np.asarray(split[3])\n",
    "\n",
    "    features = np.min([max_features, dataset.shape[1]])\n",
    "    \n",
    "    model = RandomForestClassifier()\n",
    "    model.fit(train_attr,train_labels)\n",
    "    scores = cross_val_score(model, dataset, clases, cv=5)\n",
    "    print(\"\\t\",model.__class__.__name__,\"Accuracy: %0.2f (+/- %0.2f)\" % (np.mean(scores), np.std(scores)))\n",
    "    print(\"\\n\")\n",
    "\n",
    "    # Knn hellinger\n",
    "    #for n_neighbors in l_n_neighbors:\n",
    "    #    model = KNeighborsClassifier(n_neighbors=n_neighbors,metric=hellinger)\n",
    "    #    model.fit(train_attr,train_labels)\n",
    "    #    scores = cross_val_score(model, dataset, clases, cv=5)\n",
    "    #    print(model.__class__.__name__,\"hellinger\",(n_neighbors),\"Accuracy: %0.2f (+/- %0.2f)\" % (np.mean(scores), np.std(scores)))\n",
    "\n",
    "    # Knn chisq\n",
    "    for n_neighbors in l_n_neighbors:\n",
    "        model = KNeighborsClassifier(n_neighbors=n_neighbors,metric=chisq)\n",
    "        model.fit(train_attr,train_labels)\n",
    "        scores = cross_val_score(model, dataset, clases, cv=5)\n",
    "        print(\"\\t\",model.__class__.__name__,\"chisq\",(n_neighbors),\"Accuracy: %0.2f (+/- %0.2f)\" % (np.mean(scores), np.std(scores)))\n",
    "    print(\"\\n\")\n",
    "    \n",
    "    # Knn minkowski\n",
    "    for n_neighbors in l_n_neighbors:\n",
    "        model = KNeighborsClassifier(n_neighbors=n_neighbors)\n",
    "        model.fit(train_attr,train_labels)\n",
    "        scores = cross_val_score(model, dataset, clases, cv=5)\n",
    "        print(\"\\t\",model.__class__.__name__,\"minkowski\",(n_neighbors),\"Accuracy: %0.2f (+/- %0.2f)\" % (np.mean(scores), np.std(scores)))\n",
    "    print(\"\\n\")\n",
    "    \n",
    "    # Gaussian NB  \n",
    "    model = GaussianNB()\n",
    "    model.fit(train_attr,train_labels)\n",
    "    scores = cross_val_score(model, dataset, clases, cv=5)\n",
    "    print(\"\\t\",model.__class__.__name__,\"Accuracy: %0.2f (+/- %0.2f)\" % (np.mean(scores), np.std(scores)))\n",
    "    print(\"\\n\")\n",
    "    \n",
    "    # Decision Tree\n",
    "    model = DecisionTreeClassifier()\n",
    "    model.fit(train_attr,train_labels)\n",
    "    scores = cross_val_score(model, dataset, clases, cv=5)\n",
    "    print(\"\\t\",model.__class__.__name__,\"Accuracy: %0.2f (+/- %0.2f)\" % (np.mean(scores), np.std(scores)))\n",
    "    \n"
   ]
  },
  {
   "cell_type": "code",
   "execution_count": null,
   "metadata": {
    "scrolled": true
   },
   "outputs": [],
   "source": [
    "\n"
   ]
  },
  {
   "cell_type": "code",
   "execution_count": null,
   "metadata": {},
   "outputs": [],
   "source": []
  },
  {
   "cell_type": "code",
   "execution_count": null,
   "metadata": {
    "collapsed": true
   },
   "outputs": [],
   "source": []
  },
  {
   "cell_type": "code",
   "execution_count": null,
   "metadata": {
    "collapsed": true
   },
   "outputs": [],
   "source": []
  },
  {
   "cell_type": "code",
   "execution_count": null,
   "metadata": {
    "collapsed": true
   },
   "outputs": [],
   "source": []
  },
  {
   "cell_type": "code",
   "execution_count": null,
   "metadata": {
    "collapsed": true
   },
   "outputs": [],
   "source": []
  },
  {
   "cell_type": "code",
   "execution_count": null,
   "metadata": {
    "collapsed": true
   },
   "outputs": [],
   "source": []
  },
  {
   "cell_type": "code",
   "execution_count": null,
   "metadata": {
    "collapsed": true
   },
   "outputs": [],
   "source": []
  },
  {
   "cell_type": "code",
   "execution_count": null,
   "metadata": {
    "collapsed": true
   },
   "outputs": [],
   "source": []
  },
  {
   "cell_type": "code",
   "execution_count": null,
   "metadata": {
    "collapsed": true
   },
   "outputs": [],
   "source": []
  },
  {
   "cell_type": "code",
   "execution_count": null,
   "metadata": {
    "collapsed": true
   },
   "outputs": [],
   "source": []
  }
 ],
 "metadata": {
  "kernelspec": {
   "display_name": "Python 3",
   "language": "python",
   "name": "python3"
  },
  "language_info": {
   "codemirror_mode": {
    "name": "ipython",
    "version": 3
   },
   "file_extension": ".py",
   "mimetype": "text/x-python",
   "name": "python",
   "nbconvert_exporter": "python",
   "pygments_lexer": "ipython3",
   "version": "3.6.3"
  }
 },
 "nbformat": 4,
 "nbformat_minor": 2
}
